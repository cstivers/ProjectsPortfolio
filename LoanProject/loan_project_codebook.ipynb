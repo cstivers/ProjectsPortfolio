{
  "nbformat": 4,
  "nbformat_minor": 0,
  "metadata": {
    "colab": {
      "provenance": []
    },
    "kernelspec": {
      "name": "python3",
      "display_name": "Python 3"
    },
    "language_info": {
      "name": "python"
    }
  },
  "cells": [
    {
      "cell_type": "markdown",
      "source": [
        "# Analysis: Home Credit Default Risk Data"
      ],
      "metadata": {
        "id": "ATseJJeX3lpY"
      }
    },
    {
      "cell_type": "markdown",
      "source": [
        "Included below is an example of our predictive analysis using logistic regression, Support Vector Machines, Linear Discriminants applied to the Home Credit Default Risk Data. We aim to produce a modeling process that can successfully and accurately predict whether or not someone defaults.\n",
        "\n",
        "We believe that one of these process can generate both accurate and meaningful predictions for Home Credit whether someone repays there loans or not."
      ],
      "metadata": {
        "id": "UKkZoZQK4A3w"
      }
    },
    {
      "cell_type": "markdown",
      "source": [
        "# Setup"
      ],
      "metadata": {
        "id": "Qbg0aXWcuN-V"
      }
    },
    {
      "cell_type": "markdown",
      "source": [
        "We use the following packages:\n",
        "- `pandas` as a tool for tabular and relational data engineering\n",
        "- `numpy` as a tool for vectorized mathematical operations\n",
        "- `matplotlib` as a visualization tool\n",
        "- `seaborn` as a statistical visualization tool\n",
        "\n",
        "models\n",
        "- `sklearn` as a versatile tool to run various statistical models"
      ],
      "metadata": {
        "id": "TCpIfeezuQzy"
      }
    },
    {
      "cell_type": "code",
      "execution_count": null,
      "metadata": {
        "id": "GdS7GI8Y2m-F"
      },
      "outputs": [],
      "source": [
        "import pandas as pd\n",
        "import numpy as np\n",
        "import matplotlib.pyplot as plt\n",
        "from sklearn.model_selection import train_test_split\n",
        "from sklearn.linear_model import LogisticRegression\n",
        "from sklearn.svm import SVC\n",
        "from sklearn.discriminant_analysis import LinearDiscriminantAnalysis"
      ]
    },
    {
      "cell_type": "markdown",
      "source": [
        "Supress, unneccesary warning for a cleaner output"
      ],
      "metadata": {
        "id": "oTzdkmT_vSIB"
      }
    },
    {
      "cell_type": "code",
      "source": [
        "import warnings\n",
        "warnings.filterwarnings(\"ignore\")"
      ],
      "metadata": {
        "id": "G1haob_FtuJX"
      },
      "execution_count": null,
      "outputs": []
    },
    {
      "cell_type": "markdown",
      "source": [
        "## Data Collection"
      ],
      "metadata": {
        "id": "P1-JunYCvazy"
      }
    },
    {
      "cell_type": "markdown",
      "source": [
        "Below we read the application_train.csv from [Home Credit Deauflt Risk Data](https://www.kaggle.com/c/home-credit-default-risk/)"
      ],
      "metadata": {
        "id": "S4tA58fyvgit"
      }
    },
    {
      "cell_type": "code",
      "source": [
        "df_application_train_initial = pd.read_csv(\"application_train.csv\")"
      ],
      "metadata": {
        "id": "S6v45_ab0F7M"
      },
      "execution_count": null,
      "outputs": []
    },
    {
      "cell_type": "markdown",
      "source": [
        "We looked at the columns found in the raw data, with their counts, datatypes, and what the first few rows looked like"
      ],
      "metadata": {
        "id": "tgSUvQqQ0YH8"
      }
    },
    {
      "cell_type": "code",
      "source": [
        "df_application_train_initial.info()"
      ],
      "metadata": {
        "id": "Ag5Mw8Qh0ic9",
        "colab": {
          "base_uri": "https://localhost:8080/"
        },
        "outputId": "e8be10e3-3baa-48c2-d36b-dd40b5edf5a6"
      },
      "execution_count": null,
      "outputs": [
        {
          "output_type": "stream",
          "name": "stdout",
          "text": [
            "<class 'pandas.core.frame.DataFrame'>\n",
            "RangeIndex: 307511 entries, 0 to 307510\n",
            "Columns: 122 entries, SK_ID_CURR to AMT_REQ_CREDIT_BUREAU_YEAR\n",
            "dtypes: float64(65), int64(41), object(16)\n",
            "memory usage: 286.2+ MB\n"
          ]
        }
      ]
    },
    {
      "cell_type": "markdown",
      "source": [
        "## Early Visuals"
      ],
      "metadata": {
        "id": "_EqxhpCu6hHg"
      }
    },
    {
      "cell_type": "code",
      "source": [
        "df_application_train = df_application_train_initial.dropna()\n",
        "\n",
        "value_counts_gender = df_application_train.groupby('CODE_GENDER')['TARGET'].value_counts(normalize=True)\n",
        "\n",
        "value_counts_gender = value_counts_gender.unstack().fillna(0)\n",
        "\n",
        "value_counts_gender.plot(kind=\"bar\", stacked=True, color=['lightcoral', 'lightseagreen'])\n",
        "\n",
        "labels = ['No', 'Yes']\n",
        "\n",
        "plt.xticks(range(len(value_counts_gender.index)), ['Female' if idx == 'F' else 'Male' for idx in value_counts_gender.index])\n",
        "plt.xlabel(\"Loan Repayment Status\")\n",
        "plt.ylabel(\"Percentage\")\n",
        "plt.title(\"Distribution of Loan Repayment by Gender\")\n",
        "\n",
        "for i, gender in enumerate(value_counts_gender.index):\n",
        "    if all(col in value_counts_gender.columns for col in ['No', 'Yes']):\n",
        "        for j, count in enumerate(value_counts_gender.loc[gender]):\n",
        "            plt.text(i, count / 2, f'{count*100:.2f}%', ha='center', va='center')\n",
        "\n",
        "plt.legend(title='Loan Repaid')\n",
        "plt.show()\n"
      ],
      "metadata": {
        "id": "eGPw0YeHZxFY",
        "colab": {
          "base_uri": "https://localhost:8080/",
          "height": 508
        },
        "outputId": "708417d0-d5a1-4326-932a-9d11299956a1"
      },
      "execution_count": null,
      "outputs": [
        {
          "output_type": "display_data",
          "data": {
            "text/plain": [
              "<Figure size 640x480 with 1 Axes>"
            ],
            "image/png": "[encoded data removed]"
          },
          "metadata": {}
        }
      ]
    },
    {
      "cell_type": "code",
      "source": [
        "value_counts = df_application_train_initial[\"TARGET\"].value_counts(normalize=True)\n",
        "value_counts.plot(kind=\"bar\", color=['lightcoral', 'lightseagreen'])\n",
        "labels = ['No' if label == 0 else 'Yes' for label in value_counts.index]\n",
        "plt.xticks(range(len(labels)), labels)\n",
        "plt.xlabel(\"TARGET\")\n",
        "plt.ylabel(\"Percentage\")\n",
        "plt.title(\"Distribution of Whether Loan was Paid Back\")\n",
        "\n",
        "for i, count in enumerate(value_counts):\n",
        "    plt.text(i, count, f'{count*100:.2f}%', ha='center', va='bottom')\n",
        "\n",
        "plt.show()\n",
        "\n"
      ],
      "metadata": {
        "colab": {
          "base_uri": "https://localhost:8080/",
          "height": 480
        },
        "id": "HPCozELkArQq",
        "outputId": "d4aeb118-4095-4781-955f-732607326d08"
      },
      "execution_count": null,
      "outputs": [
        {
          "output_type": "display_data",
          "data": {
            "text/plain": [
              "<Figure size 640x480 with 1 Axes>"
            ],
            "image/png": "[encoded data removed]"
          },
          "metadata": {}
        }
      ]
    },
    {
      "cell_type": "code",
      "source": [
        "df_application_train = df_application_train_initial.dropna()\n",
        "\n",
        "mean_income_by_target = df_application_train.groupby('TARGET')['AMT_INCOME_TOTAL'].mean()\n",
        "\n",
        "mean_income_by_target.plot(kind=\"bar\", color=['lightcoral', 'lightseagreen'])\n",
        "\n",
        "plt.xlabel(\"Loan Repayment Status\")\n",
        "plt.ylabel(\"Mean Income\")\n",
        "plt.title(\"Mean Income by Loan Repayment Status\")\n",
        "\n",
        "for i, mean_income in enumerate(mean_income_by_target):\n",
        "    plt.text(i, mean_income / 2, f'${mean_income:.2f}', ha='center', va='center')\n",
        "\n",
        "plt.xticks(range(len(mean_income_by_target.index)), ['No', 'Yes'])\n",
        "plt.show()"
      ],
      "metadata": {
        "id": "fKsExJIPan0z",
        "outputId": "70391a2d-ed63-4d7f-bd33-6e930f81aeba",
        "colab": {
          "base_uri": "https://localhost:8080/",
          "height": 480
        }
      },
      "execution_count": null,
      "outputs": [
        {
          "output_type": "display_data",
          "data": {
            "text/plain": [
              "<Figure size 640x480 with 1 Axes>"
            ],
            "image/png": "[encoded data removed]"
          },
          "metadata": {}
        }
      ]
    },
    {
      "cell_type": "code",
      "source": [
        "df_application_train = df_application_train_initial.dropna()\n",
        "\n",
        "mean_credit_by_target = df_application_train.groupby('TARGET')['AMT_CREDIT'].mean()\n",
        "\n",
        "mean_credit_by_target.plot(kind=\"bar\", color=['lightcoral', 'lightseagreen'])\n",
        "\n",
        "plt.xlabel(\"Loan Repayment Status\")\n",
        "plt.ylabel(\"Mean Credit Amount\")\n",
        "plt.title(\"Mean Credit Amount by Loan Repayment Status\")\n",
        "\n",
        "for i, mean_credit in enumerate(mean_credit_by_target):\n",
        "    plt.text(i, mean_credit / 2, f'${mean_credit:.2f}', ha='center', va='center')\n",
        "\n",
        "plt.xticks(range(len(mean_credit_by_target.index)), ['No', 'Yes'])\n",
        "plt.show()"
      ],
      "metadata": {
        "id": "mhb7E_orbTuW",
        "colab": {
          "base_uri": "https://localhost:8080/",
          "height": 480
        },
        "outputId": "76b88ccd-2a35-4db6-f87f-e9cee84d5193"
      },
      "execution_count": null,
      "outputs": [
        {
          "output_type": "display_data",
          "data": {
            "text/plain": [
              "<Figure size 640x480 with 1 Axes>"
            ],
            "image/png": "[encoded data removed]"
          },
          "metadata": {}
        }
      ]
    },
    {
      "cell_type": "markdown",
      "source": [
        "## Feature Engineering"
      ],
      "metadata": {
        "id": "qsNiASIV6IaW"
      }
    },
    {
      "cell_type": "markdown",
      "source": [
        "First we reduced the dataset to certain variables we wanted to look at."
      ],
      "metadata": {
        "id": "6KkkDIpafJvC"
      }
    },
    {
      "cell_type": "code",
      "source": [
        "df_application_train = df_application_train_initial[['SK_ID_CURR', 'TARGET', 'AMT_INCOME_TOTAL', 'AMT_CREDIT',\n",
        "                        'AMT_ANNUITY', 'AMT_GOODS_PRICE', 'DAYS_BIRTH',\n",
        "                        'DAYS_EMPLOYED', 'DAYS_REGISTRATION', 'CODE_GENDER',\n",
        "                        'NAME_EDUCATION_TYPE', 'CNT_FAM_MEMBERS', 'FLAG_OWN_CAR',\n",
        "                        'FLAG_OWN_REALTY', 'NAME_CONTRACT_TYPE', 'OCCUPATION_TYPE',\n",
        "                        'NAME_HOUSING_TYPE', 'NAME_FAMILY_STATUS', 'NAME_INCOME_TYPE']]\n",
        "\n",
        "df_application_train['DAYS_BIRTH'] = -df_application_train['DAYS_BIRTH']\n",
        "df_application_train['DAYS_EMPLOYED'] = -df_application_train['DAYS_EMPLOYED']\n",
        "df_application_train['DAYS_REGISTRATION'] = -df_application_train['DAYS_REGISTRATION']"
      ],
      "metadata": {
        "id": "GOPPEwY9fOFM"
      },
      "execution_count": null,
      "outputs": []
    },
    {
      "cell_type": "markdown",
      "source": [
        "We created a new variable to group the occupation type variable."
      ],
      "metadata": {
        "id": "v1fpecWYf3Pv"
      }
    },
    {
      "cell_type": "code",
      "source": [
        "df_application_train['COMMON_OCCUPATION'] = df_application_train['OCCUPATION_TYPE'].isin(['Laborers','Sales staff','Core staff','Mangers','Drivers'])\n"
      ],
      "metadata": {
        "id": "0Vm-ZCwhf2xz"
      },
      "execution_count": null,
      "outputs": []
    },
    {
      "cell_type": "markdown",
      "source": [
        "We also created a variable for the years of the clients to make the results more interpretable."
      ],
      "metadata": {
        "id": "jij_EU2Njp2-"
      }
    },
    {
      "cell_type": "code",
      "source": [
        "df_application_train['AGE_YEARS'] = df_application_train['DAYS_BIRTH']/-365\n",
        "df_application_train = df_application_train.drop(\"DAYS_BIRTH\",axis=1)"
      ],
      "metadata": {
        "id": "pU7MFVm2uprL"
      },
      "execution_count": null,
      "outputs": []
    },
    {
      "cell_type": "markdown",
      "source": [
        "Checking the distribution of target values:"
      ],
      "metadata": {
        "id": "SaIspnplNeDz"
      }
    },
    {
      "cell_type": "code",
      "source": [
        "df_application_train[\"TARGET\"].value_counts()"
      ],
      "metadata": {
        "colab": {
          "base_uri": "https://localhost:8080/"
        },
        "id": "qJy4V5yO9lTW",
        "outputId": "63a0968b-574f-4568-e147-dcc321d10095"
      },
      "execution_count": null,
      "outputs": [
        {
          "output_type": "execute_result",
          "data": {
            "text/plain": [
              "0    282686\n",
              "1     24825\n",
              "Name: TARGET, dtype: int64"
            ]
          },
          "metadata": {},
          "execution_count": 488
        }
      ]
    },
    {
      "cell_type": "markdown",
      "source": [
        "Cleaning the Data"
      ],
      "metadata": {
        "id": "HM6ZuhVOx09s"
      }
    },
    {
      "cell_type": "code",
      "source": [
        "def clean(data, stringThing = \"\", numThing = 0):\n",
        "    for col in data.columns:\n",
        "        if data[col].dtype == \"object\":\n",
        "            data[col] = data[col].astype(str)\n",
        "            data[col].fillna(stringThing, inplace=True)\n",
        "        else:\n",
        "            data[col].fillna(numThing, inplace=True)\n",
        "    return data"
      ],
      "metadata": {
        "id": "Ya19azsbx0qr"
      },
      "execution_count": null,
      "outputs": []
    },
    {
      "cell_type": "code",
      "source": [
        "df = clean(df_application_train)"
      ],
      "metadata": {
        "id": "IuGDhOafmCxm"
      },
      "execution_count": null,
      "outputs": []
    },
    {
      "cell_type": "code",
      "source": [
        "df[\"TARGET\"].value_counts()"
      ],
      "metadata": {
        "colab": {
          "base_uri": "https://localhost:8080/"
        },
        "id": "k-CfPClN75vy",
        "outputId": "0c723180-87b9-4f6e-c13a-74364f4299db"
      },
      "execution_count": null,
      "outputs": [
        {
          "output_type": "execute_result",
          "data": {
            "text/plain": [
              "0    282686\n",
              "1     24825\n",
              "Name: TARGET, dtype: int64"
            ]
          },
          "metadata": {},
          "execution_count": 491
        }
      ]
    },
    {
      "cell_type": "markdown",
      "source": [
        "## Functions"
      ],
      "metadata": {
        "id": "CQSORRaZ64cx"
      }
    },
    {
      "cell_type": "markdown",
      "source": [
        "### Metric Functions"
      ],
      "metadata": {
        "id": "tdNmmG0XGz-7"
      }
    },
    {
      "cell_type": "markdown",
      "source": [
        "We built metric functions to help evaluate how powerful our predictive model is"
      ],
      "metadata": {
        "id": "Q6SZn3xCG4NR"
      }
    },
    {
      "cell_type": "code",
      "source": [
        "def accuracy(y_true, y_pred):\n",
        "    return np.mean(y_true == y_pred)"
      ],
      "metadata": {
        "id": "ziYyc8WLI5P0"
      },
      "execution_count": null,
      "outputs": []
    },
    {
      "cell_type": "code",
      "source": [
        "def precision(y_true, y_pred):\n",
        "    tp = np.sum((y_true == 1) & (y_pred == 1))\n",
        "    fp = np.sum((y_true == 0) & (y_pred == 1))\n",
        "    return tp / (tp+fp) if (tp+fp) != 0 else 0"
      ],
      "metadata": {
        "id": "T61Tiqj4I7l8"
      },
      "execution_count": null,
      "outputs": []
    },
    {
      "cell_type": "code",
      "source": [
        "def recall(y_true, y_pred):\n",
        "    tp = np.sum((y_true == 1) & (y_pred == 1))\n",
        "    fn = np.sum((y_true == 1) & (y_pred == 0))\n",
        "    return tp / (tp+fn) if (tp+fn) != 0 else 0"
      ],
      "metadata": {
        "id": "CTPnAFyEI8KH"
      },
      "execution_count": null,
      "outputs": []
    },
    {
      "cell_type": "code",
      "source": [
        "def f1(y_true, y_pred):\n",
        "    p = precision(y_true, y_pred)\n",
        "    r = recall(y_true, y_pred)\n",
        "    return 2 * p * r / (p+r) if p+r != 0 else 0"
      ],
      "metadata": {
        "id": "jurPjGYYI_CX"
      },
      "execution_count": null,
      "outputs": []
    },
    {
      "cell_type": "code",
      "source": [
        "def misclassification(y_true, y_pred):\n",
        "    return 1-accuracy(y_true, y_pred)"
      ],
      "metadata": {
        "id": "IfJaIF3wv6mQ"
      },
      "execution_count": null,
      "outputs": []
    },
    {
      "cell_type": "code",
      "source": [
        "def roc_auc(y_true, y_pred, plot=False):\n",
        "    thresholds = np.linspace(0, 1, 100)\n",
        "    tpr = []\n",
        "    fpr = []\n",
        "    for threshold in thresholds:\n",
        "        classifications = np.where(y_pred >= threshold, 1, 0)\n",
        "        tp = np.sum((classifications == 1) & (y_true == 1))\n",
        "        fp = np.sum((classifications == 1) & (y_true == 0))\n",
        "        tn = np.sum((classifications == 0) & (y_true == 0))\n",
        "        fn = np.sum((classifications == 0) & (y_true == 1))\n",
        "        tpr.append(tp / (tp + fn))\n",
        "        fpr.append(fp / (fp + tn))\n",
        "    if plot:\n",
        "        plt.plot(fpr, tpr)\n",
        "    return abs(np.trapz(tpr, fpr))"
      ],
      "metadata": {
        "id": "CBCBauEhJBEM"
      },
      "execution_count": null,
      "outputs": []
    },
    {
      "cell_type": "code",
      "source": [
        "def specificity(y_true, y_pred):\n",
        "    tn = np.sum((y_true == 0) & (y_pred == 0))\n",
        "    fp = np.sum((y_true == 0) & (y_pred == 1))\n",
        "    return tn / (tn + fp) if (tn + fp) != 0 else 0"
      ],
      "metadata": {
        "id": "wOyuYQei7qIj"
      },
      "execution_count": null,
      "outputs": []
    },
    {
      "cell_type": "code",
      "source": [
        "def fairness_gender(X_test, y_true, y_pred):\n",
        "    test_data = X_test.join(y_true, how='outer')\n",
        "    test_data[\"prediction\"] = y_pred\n",
        "    test_male = test_data[test_data[\"CODE_GENDER_M\"] > 0]\n",
        "    test_female = test_data[test_data[\"CODE_GENDER_F\"] > 0]\n",
        "    parity = test_female[\"prediction\"].mean() / test_male[\"prediction\"].mean()\n",
        "    return(parity)"
      ],
      "metadata": {
        "id": "2w1rDYCvnXQ6"
      },
      "execution_count": null,
      "outputs": []
    },
    {
      "cell_type": "markdown",
      "source": [
        "## Modeling Functions"
      ],
      "metadata": {
        "id": "CWwmzYeOHA_X"
      }
    },
    {
      "cell_type": "markdown",
      "source": [
        "We developed functions to facilitate the construction of our models, enabling us to generate predictions for our dataset."
      ],
      "metadata": {
        "id": "GOFMnRcnHDQn"
      }
    },
    {
      "cell_type": "markdown",
      "source": [
        "### Model 1: Logistic Regression"
      ],
      "metadata": {
        "id": "OrUF1mvF6lBp"
      }
    },
    {
      "cell_type": "markdown",
      "source": [
        "Our first model of choice was Logistic Regression."
      ],
      "metadata": {
        "id": "fzXl9SJzH42u"
      }
    },
    {
      "cell_type": "code",
      "source": [
        "class LogisticRegressionManual:\n",
        "\n",
        "    def __init__(self, num=1000, eta=0.001):\n",
        "        self.num = num\n",
        "        self.eta = eta\n",
        "\n",
        "    def fit(self, X, y):\n",
        "        X = pd.get_dummies(X).astype(int)\n",
        "        xCols = X.columns\n",
        "        ones = np.ones((X.shape[0], 1))\n",
        "        X = np.concatenate([ones, X], axis=1)\n",
        "        target = y.name\n",
        "        c = y.values\n",
        "        self.betas = np.zeros(X.shape[1])\n",
        "        for i in range(self.num):\n",
        "            zi = X @ self.betas\n",
        "            p = 1 / (1 + np.exp(-zi))\n",
        "            # feel free to play with the loss function. This is used because it doesn't fail\n",
        "            dl = -(X.T @ (c * (1 - p))) + (X.T @ ((1-c) * p))\n",
        "            if np.sum(np.sign(self.betas) != np.sign(self.betas - self.eta * dl)) > 2:\n",
        "                self.eta /= 2\n",
        "            self.betas = self.betas - self.eta * dl\n",
        "            loss = np.sum(dl ** 2)\n",
        "            if loss < 1e-4:\n",
        "                break\n",
        "        self.betas = pd.DataFrame(self.betas, index=[\"Intercept\"] + xCols.tolist(), columns=[\"ß\"])\n",
        "        return self.betas\n",
        "\n",
        "    def predict_proba(self, X_test):\n",
        "        X_test = pd.get_dummies(X_test).astype(int)\n",
        "        ones = np.ones((X_test.shape[0], 1))\n",
        "        X_test = np.concatenate([ones, X_test], axis=1)\n",
        "        zi = X_test @ self.betas\n",
        "        p = 1 / (1 + np.exp(-zi))\n",
        "        stuff = pd.DataFrame({\"p\": p[\"ß\"], \"1-p\": 1-p[\"ß\"]})\n",
        "        return stuff\n",
        "\n",
        "    def predict(self, X_test, threshold=0.5):\n",
        "        probas = self.predict_proba(X_test)\n",
        "        return np.where(probas[\"p\"] >= threshold, 1, 0)"
      ],
      "metadata": {
        "id": "frdVymFvdBW2"
      },
      "execution_count": null,
      "outputs": []
    },
    {
      "cell_type": "markdown",
      "source": [
        "The other two models are the built-in SVC and LDA models, which we demonstrate later."
      ],
      "metadata": {
        "id": "o3mpmodH7ZSf"
      }
    },
    {
      "cell_type": "markdown",
      "source": [
        "## CV Functions\n",
        "\n",
        "We built a CV function that does Cross Validation for the data. You can pick a normal split, stratified split, or non-random split. The stratified split is done so that the training and testing splits are sampled from data with equal numbers of males and females. The non-random split is trained on some data where the people have a common occupation, and tested on data where people have a relatively uncommon occupation."
      ],
      "metadata": {
        "id": "Fyp9BtQwWyqu"
      }
    },
    {
      "cell_type": "code",
      "source": [
        "def dummies(data):\n",
        "    dummyCols = [col for col in data.columns if data[col].nunique() < data.shape[0]] # filter out id columns automatically\n",
        "    return pd.get_dummies(data[dummyCols]).astype(int)\n",
        "\n",
        "def splits(data, mode=\"random\", v=5):\n",
        "    data.reset_index(drop=True, inplace=True)\n",
        "    data_orig = data\n",
        "    data = dummies(data)\n",
        "    for col in data.columns:\n",
        "        if col != \"TARGET\":\n",
        "            data[col] = (data[col] - data[col].mean()) / data[col].std()\n",
        "    X = data.drop([\"TARGET\"], axis=1)\n",
        "    y = data[\"TARGET\"]\n",
        "    sample_size = 10000\n",
        "    folds = []\n",
        "    if mode == \"random\":\n",
        "        for i in range(v):\n",
        "            sample_total = data.sample(sample_size, replace=False)\n",
        "            trainIndex = np.random.choice(sample_total.index, size=int(len(sample_total)*0.8), replace=False)\n",
        "            testIndex = sample_total.index.difference(trainIndex)\n",
        "            X_train = X.iloc[X.index.isin(trainIndex)]\n",
        "            X_test = X.iloc[X.index.isin(testIndex)]\n",
        "            y_train = y.iloc[y.index.isin(trainIndex)]\n",
        "            y_test = y.iloc[y.index.isin(testIndex)]\n",
        "            folds.append((X_train, X_test, y_train, y_test))\n",
        "    elif mode == \"stratified\":\n",
        "        for i in range(v):\n",
        "            strat_male = data[data_orig[\"CODE_GENDER\"] == \"M\"].sample(int(sample_size*0.5), replace=False)\n",
        "            strat_female = data[data_orig[\"CODE_GENDER\"] == \"F\"].sample(int(sample_size*0.5), replace=False)\n",
        "            strat_sample = pd.concat([strat_male, strat_female]).sample(frac=1).reset_index(drop=True)\n",
        "            trainIndex = strat_sample.index[int(len(strat_sample)*0.2):]\n",
        "            testIndex = strat_sample.index[:int(len(strat_sample)*0.2)]\n",
        "            X_train = strat_sample.iloc[trainIndex].drop(\"TARGET\",axis=1)\n",
        "            X_test = strat_sample.iloc[testIndex].drop(\"TARGET\",axis=1)\n",
        "            y_train = strat_sample.iloc[trainIndex]['TARGET']\n",
        "            y_test = strat_sample.iloc[testIndex]['TARGET']\n",
        "            folds.append((X_train, X_test, y_train, y_test))\n",
        "    elif mode == \"non-random\":\n",
        "        for i in range(v):\n",
        "            # group_include = data[data_orig['OCCUPATION_TYPE'].isin(['Laborers','Sales staff','Core staff','Mangers','Drivers'])]\n",
        "            # group_exclude = data[data_orig['OCCUPATION_TYPE'].isin(['Laborers','Sales staff','Core staff','Mangers','Drivers']) == False]\n",
        "            group_include = data[data_orig['COMMON_OCCUPATION']==True]\n",
        "            group_exclude = data[data_orig['COMMON_OCCUPATION']==False]\n",
        "            include_sample = group_include.sample(int(sample_size*0.8), replace=False)\n",
        "            exclude_sample = group_exclude.sample(int(sample_size*0.2), replace=False)\n",
        "            testIndex = exclude_sample.index\n",
        "            testIndex = testIndex[testIndex < len(X)]\n",
        "            trainIndex = include_sample.index\n",
        "            trainIndex = trainIndex[trainIndex < len(X)]\n",
        "            X_train = X.iloc[X.index.isin(trainIndex)]\n",
        "            X_test = X.iloc[X.index.isin(testIndex)]\n",
        "            y_train = y.iloc[y.index.isin(trainIndex)]\n",
        "            y_test = y.iloc[y.index.isin(testIndex)]\n",
        "            folds.append((X_train, X_test, y_train, y_test))\n",
        "    else:\n",
        "        raise ValueError(f\"Invalid mode: {mode}\")\n",
        "    return folds\n",
        "\n",
        "def cv(data, mode=\"random\", v=5, models=[LogisticRegressionManual(), LinearDiscriminantAnalysis(solver=\"lsqr\")]):\n",
        "    folds = splits(data, mode, v)\n",
        "    things = pd.DataFrame(columns=[\"model\", \"fold\", \"accuracy\", \"precision\", \"recall\",\n",
        "                                   \"f1\", \"roc_auc\", \"misclassification\", \"fairness_gender\"])\n",
        "    model_num = 1\n",
        "    for m in models:\n",
        "        i = 1\n",
        "        for X_train, X_test, y_train, y_test in folds:\n",
        "            try:\n",
        "                m.probability = True\n",
        "            except:\n",
        "                pass\n",
        "            m.fit(X_train, y_train)\n",
        "            probabilities = m.predict_proba(X_test)\n",
        "            if model_num == 1:\n",
        "                predictions = m.predict(X_test, threshold = 0.15)\n",
        "            else:\n",
        "                predictions = pd.Series(probabilities[:,1] >= 0.15,index=X_test.index)\n",
        "            if model_num == 1:\n",
        "                probabilities = pd.Series(probabilities[\"p\"])\n",
        "            else:\n",
        "                probabilities = pd.Series(probabilities[:,1], index=X_test.index)\n",
        "            stuff = {}\n",
        "            stuff[\"accuracy\"] = accuracy(y_test, predictions)\n",
        "            stuff[\"precision\"] = precision(y_test, predictions)\n",
        "            stuff[\"recall\"] = recall(y_test, predictions)\n",
        "            stuff[\"specificity\"] = specificity(y_test, predictions)\n",
        "            stuff[\"f1\"] = f1(y_test, predictions)\n",
        "            stuff[\"roc_auc\"] = roc_auc(y_test, probabilities)\n",
        "            stuff[\"misclassification\"] = 1 - accuracy(y_test, predictions)\n",
        "            stuff[\"fairness_gender\"] = fairness_gender(X_test, y_test, predictions)\n",
        "            # stuff[\"fairness_age\"] = fairness_age(X_test, y_test, predictions)\n",
        "            if model_num == 1:\n",
        "                stuff[\"model\"] = \"LogisticRegression\"\n",
        "            else:\n",
        "                stuff[\"model\"] = str(m)\n",
        "            #stuff[\"fold\"] = i\n",
        "            i += 1\n",
        "            stuff = pd.DataFrame([stuff])\n",
        "            things = pd.concat([things, stuff])\n",
        "        model_num += 1\n",
        "    things = things.groupby(['model']).mean()\n",
        "    #.drop(\"fold\", axis=1)\n",
        "    return things"
      ],
      "metadata": {
        "id": "hU0xbcdIV8aQ"
      },
      "execution_count": null,
      "outputs": []
    },
    {
      "cell_type": "code",
      "source": [
        "stuff = splits(df, mode=\"stratified\", v=10)\n",
        "X_train, X_test, y_train, y_test = stuff[0]"
      ],
      "metadata": {
        "id": "cvXYFblYqbCn"
      },
      "execution_count": null,
      "outputs": []
    },
    {
      "cell_type": "markdown",
      "source": [
        "## Model 2: Support Vector Machine"
      ],
      "metadata": {
        "id": "FBjaA7N26p52"
      }
    },
    {
      "cell_type": "markdown",
      "source": [
        "Our second model of choice was Support Vector Machine."
      ],
      "metadata": {
        "id": "JLt6HiUbH-Au"
      }
    },
    {
      "cell_type": "code",
      "source": [
        "clf = SVC(kernel = 'linear')\n",
        "clf.fit(X_train, y_train)\n",
        "y_pred = clf.predict(X_test)"
      ],
      "metadata": {
        "id": "9vP7F0IgdTDA"
      },
      "execution_count": null,
      "outputs": []
    },
    {
      "cell_type": "markdown",
      "source": [
        "## Model 3: Linear Discriminant Analysis"
      ],
      "metadata": {
        "id": "W6_Cjo6v6tU8"
      }
    },
    {
      "cell_type": "markdown",
      "source": [
        "Our third model of choice was Linear Discriminant Analysis."
      ],
      "metadata": {
        "id": "TkSt1rwqH_j2"
      }
    },
    {
      "cell_type": "code",
      "source": [
        "model = LinearDiscriminantAnalysis()\n",
        "model.fit(X_train,y_train)\n",
        "y_pred = model.predict(X_test)"
      ],
      "metadata": {
        "id": "3KfZXkqOdUIB"
      },
      "execution_count": null,
      "outputs": []
    },
    {
      "cell_type": "markdown",
      "source": [
        "## Running the CV to Get Model Results"
      ],
      "metadata": {
        "id": "aFUAUhQzrdEe"
      }
    },
    {
      "cell_type": "markdown",
      "source": [
        "Because SVC is computationally intensive, we've removed it from our cross validation function to allow for faster results. We elected not to use it in our final model due to poor results as well."
      ],
      "metadata": {
        "id": "BATkamw__Qud"
      }
    },
    {
      "cell_type": "code",
      "source": [
        "cv(df, mode=\"stratified\", v=10)"
      ],
      "metadata": {
        "id": "VWtXrlKxrc1X",
        "colab": {
          "base_uri": "https://localhost:8080/",
          "height": 143
        },
        "outputId": "e768621b-dd2c-422c-867f-e86f283456c8"
      },
      "execution_count": null,
      "outputs": [
        {
          "output_type": "execute_result",
          "data": {
            "text/plain": [
              "                                           accuracy  precision    recall  \\\n",
              "model                                                                      \n",
              "LinearDiscriminantAnalysis(solver='lsqr')   0.84170   0.176749  0.213711   \n",
              "LogisticRegression                          0.75585   0.146158  0.276403   \n",
              "\n",
              "                                                 f1   roc_auc  \\\n",
              "model                                                           \n",
              "LinearDiscriminantAnalysis(solver='lsqr')  0.192966  0.641451   \n",
              "LogisticRegression                         0.171018  0.596551   \n",
              "\n",
              "                                           misclassification  fairness_gender  \\\n",
              "model                                                                           \n",
              "LinearDiscriminantAnalysis(solver='lsqr')            0.15830         0.178329   \n",
              "LogisticRegression                                   0.24415         1.039870   \n",
              "\n",
              "                                           specificity  \n",
              "model                                                   \n",
              "LinearDiscriminantAnalysis(solver='lsqr')     0.902848  \n",
              "LogisticRegression                            0.803697  "
            ],
            "text/html": [
              "\n",
              "  <div id=\"df-1082964b-94bb-47e2-8f25-c4aa24c02f79\" class=\"colab-df-container\">\n",
              "    <div>\n",
              "<style scoped>\n",
              "    .dataframe tbody tr th:only-of-type {\n",
              "        vertical-align: middle;\n",
              "    }\n",
              "\n",
              "    .dataframe tbody tr th {\n",
              "        vertical-align: top;\n",
              "    }\n",
              "\n",
              "    .dataframe thead th {\n",
              "        text-align: right;\n",
              "    }\n",
              "</style>\n",
              "<table border=\"1\" class=\"dataframe\">\n",
              "  <thead>\n",
              "    <tr style=\"text-align: right;\">\n",
              "      <th></th>\n",
              "      <th>accuracy</th>\n",
              "      <th>precision</th>\n",
              "      <th>recall</th>\n",
              "      <th>f1</th>\n",
              "      <th>roc_auc</th>\n",
              "      <th>misclassification</th>\n",
              "      <th>fairness_gender</th>\n",
              "      <th>specificity</th>\n",
              "    </tr>\n",
              "    <tr>\n",
              "      <th>model</th>\n",
              "      <th></th>\n",
              "      <th></th>\n",
              "      <th></th>\n",
              "      <th></th>\n",
              "      <th></th>\n",
              "      <th></th>\n",
              "      <th></th>\n",
              "      <th></th>\n",
              "    </tr>\n",
              "  </thead>\n",
              "  <tbody>\n",
              "    <tr>\n",
              "      <th>LinearDiscriminantAnalysis(solver='lsqr')</th>\n",
              "      <td>0.84170</td>\n",
              "      <td>0.176749</td>\n",
              "      <td>0.213711</td>\n",
              "      <td>0.192966</td>\n",
              "      <td>0.641451</td>\n",
              "      <td>0.15830</td>\n",
              "      <td>0.178329</td>\n",
              "      <td>0.902848</td>\n",
              "    </tr>\n",
              "    <tr>\n",
              "      <th>LogisticRegression</th>\n",
              "      <td>0.75585</td>\n",
              "      <td>0.146158</td>\n",
              "      <td>0.276403</td>\n",
              "      <td>0.171018</td>\n",
              "      <td>0.596551</td>\n",
              "      <td>0.24415</td>\n",
              "      <td>1.039870</td>\n",
              "      <td>0.803697</td>\n",
              "    </tr>\n",
              "  </tbody>\n",
              "</table>\n",
              "</div>\n",
              "    <div class=\"colab-df-buttons\">\n",
              "\n",
              "  <div class=\"colab-df-container\">\n",
              "    <button class=\"colab-df-convert\" onclick=\"convertToInteractive('df-1082964b-94bb-47e2-8f25-c4aa24c02f79')\"\n",
              "            title=\"Convert this dataframe to an interactive table.\"\n",
              "            style=\"display:none;\">\n",
              "\n",
              "  <svg xmlns=\"http://www.w3.org/2000/svg\" height=\"24px\" viewBox=\"0 -960 960 960\">\n",
              "    <path d=\"M120-120v-720h720v720H120Zm60-500h600v-160H180v160Zm220 220h160v-160H400v160Zm0 220h160v-160H400v160ZM180-400h160v-160H180v160Zm440 0h160v-160H620v160ZM180-180h160v-160H180v160Zm440 0h160v-160H620v160Z\"/>\n",
              "  </svg>\n",
              "    </button>\n",
              "\n",
              "  <style>\n",
              "    .colab-df-container {\n",
              "      display:flex;\n",
              "      gap: 12px;\n",
              "    }\n",
              "\n",
              "    .colab-df-convert {\n",
              "      background-color: #E8F0FE;\n",
              "      border: none;\n",
              "      border-radius: 50%;\n",
              "      cursor: pointer;\n",
              "      display: none;\n",
              "      fill: #1967D2;\n",
              "      height: 32px;\n",
              "      padding: 0 0 0 0;\n",
              "      width: 32px;\n",
              "    }\n",
              "\n",
              "    .colab-df-convert:hover {\n",
              "      background-color: #E2EBFA;\n",
              "      box-shadow: 0px 1px 2px rgba(60, 64, 67, 0.3), 0px 1px 3px 1px rgba(60, 64, 67, 0.15);\n",
              "      fill: #174EA6;\n",
              "    }\n",
              "\n",
              "    .colab-df-buttons div {\n",
              "      margin-bottom: 4px;\n",
              "    }\n",
              "\n",
              "    [theme=dark] .colab-df-convert {\n",
              "      background-color: #3B4455;\n",
              "      fill: #D2E3FC;\n",
              "    }\n",
              "\n",
              "    [theme=dark] .colab-df-convert:hover {\n",
              "      background-color: #434B5C;\n",
              "      box-shadow: 0px 1px 3px 1px rgba(0, 0, 0, 0.15);\n",
              "      filter: drop-shadow(0px 1px 2px rgba(0, 0, 0, 0.3));\n",
              "      fill: #FFFFFF;\n",
              "    }\n",
              "  </style>\n",
              "\n",
              "    <script>\n",
              "      const buttonEl =\n",
              "        document.querySelector('#df-1082964b-94bb-47e2-8f25-c4aa24c02f79 button.colab-df-convert');\n",
              "      buttonEl.style.display =\n",
              "        google.colab.kernel.accessAllowed ? 'block' : 'none';\n",
              "\n",
              "      async function convertToInteractive(key) {\n",
              "        const element = document.querySelector('#df-1082964b-94bb-47e2-8f25-c4aa24c02f79');\n",
              "        const dataTable =\n",
              "          await google.colab.kernel.invokeFunction('convertToInteractive',\n",
              "                                                    [key], {});\n",
              "        if (!dataTable) return;\n",
              "\n",
              "        const docLinkHtml = 'Like what you see? Visit the ' +\n",
              "          '<a target=\"_blank\" href=https://colab.research.google.com/notebooks/data_table.ipynb>data table notebook</a>'\n",
              "          + ' to learn more about interactive tables.';\n",
              "        element.innerHTML = '';\n",
              "        dataTable['output_type'] = 'display_data';\n",
              "        await google.colab.output.renderOutput(dataTable, element);\n",
              "        const docLink = document.createElement('div');\n",
              "        docLink.innerHTML = docLinkHtml;\n",
              "        element.appendChild(docLink);\n",
              "      }\n",
              "    </script>\n",
              "  </div>\n",
              "\n",
              "\n",
              "<div id=\"df-808c39bf-5ded-410b-9763-c442f4bb60c7\">\n",
              "  <button class=\"colab-df-quickchart\" onclick=\"quickchart('df-808c39bf-5ded-410b-9763-c442f4bb60c7')\"\n",
              "            title=\"Suggest charts\"\n",
              "            style=\"display:none;\">\n",
              "\n",
              "<svg xmlns=\"http://www.w3.org/2000/svg\" height=\"24px\"viewBox=\"0 0 24 24\"\n",
              "     width=\"24px\">\n",
              "    <g>\n",
              "        <path d=\"M19 3H5c-1.1 0-2 .9-2 2v14c0 1.1.9 2 2 2h14c1.1 0 2-.9 2-2V5c0-1.1-.9-2-2-2zM9 17H7v-7h2v7zm4 0h-2V7h2v10zm4 0h-2v-4h2v4z\"/>\n",
              "    </g>\n",
              "</svg>\n",
              "  </button>\n",
              "\n",
              "<style>\n",
              "  .colab-df-quickchart {\n",
              "      --bg-color: #E8F0FE;\n",
              "      --fill-color: #1967D2;\n",
              "      --hover-bg-color: #E2EBFA;\n",
              "      --hover-fill-color: #174EA6;\n",
              "      --disabled-fill-color: #AAA;\n",
              "      --disabled-bg-color: #DDD;\n",
              "  }\n",
              "\n",
              "  [theme=dark] .colab-df-quickchart {\n",
              "      --bg-color: #3B4455;\n",
              "      --fill-color: #D2E3FC;\n",
              "      --hover-bg-color: #434B5C;\n",
              "      --hover-fill-color: #FFFFFF;\n",
              "      --disabled-bg-color: #3B4455;\n",
              "      --disabled-fill-color: #666;\n",
              "  }\n",
              "\n",
              "  .colab-df-quickchart {\n",
              "    background-color: var(--bg-color);\n",
              "    border: none;\n",
              "    border-radius: 50%;\n",
              "    cursor: pointer;\n",
              "    display: none;\n",
              "    fill: var(--fill-color);\n",
              "    height: 32px;\n",
              "    padding: 0;\n",
              "    width: 32px;\n",
              "  }\n",
              "\n",
              "  .colab-df-quickchart:hover {\n",
              "    background-color: var(--hover-bg-color);\n",
              "    box-shadow: 0 1px 2px rgba(60, 64, 67, 0.3), 0 1px 3px 1px rgba(60, 64, 67, 0.15);\n",
              "    fill: var(--button-hover-fill-color);\n",
              "  }\n",
              "\n",
              "  .colab-df-quickchart-complete:disabled,\n",
              "  .colab-df-quickchart-complete:disabled:hover {\n",
              "    background-color: var(--disabled-bg-color);\n",
              "    fill: var(--disabled-fill-color);\n",
              "    box-shadow: none;\n",
              "  }\n",
              "\n",
              "  .colab-df-spinner {\n",
              "    border: 2px solid var(--fill-color);\n",
              "    border-color: transparent;\n",
              "    border-bottom-color: var(--fill-color);\n",
              "    animation:\n",
              "      spin 1s steps(1) infinite;\n",
              "  }\n",
              "\n",
              "  @keyframes spin {\n",
              "    0% {\n",
              "      border-color: transparent;\n",
              "      border-bottom-color: var(--fill-color);\n",
              "      border-left-color: var(--fill-color);\n",
              "    }\n",
              "    20% {\n",
              "      border-color: transparent;\n",
              "      border-left-color: var(--fill-color);\n",
              "      border-top-color: var(--fill-color);\n",
              "    }\n",
              "    30% {\n",
              "      border-color: transparent;\n",
              "      border-left-color: var(--fill-color);\n",
              "      border-top-color: var(--fill-color);\n",
              "      border-right-color: var(--fill-color);\n",
              "    }\n",
              "    40% {\n",
              "      border-color: transparent;\n",
              "      border-right-color: var(--fill-color);\n",
              "      border-top-color: var(--fill-color);\n",
              "    }\n",
              "    60% {\n",
              "      border-color: transparent;\n",
              "      border-right-color: var(--fill-color);\n",
              "    }\n",
              "    80% {\n",
              "      border-color: transparent;\n",
              "      border-right-color: var(--fill-color);\n",
              "      border-bottom-color: var(--fill-color);\n",
              "    }\n",
              "    90% {\n",
              "      border-color: transparent;\n",
              "      border-bottom-color: var(--fill-color);\n",
              "    }\n",
              "  }\n",
              "</style>\n",
              "\n",
              "  <script>\n",
              "    async function quickchart(key) {\n",
              "      const quickchartButtonEl =\n",
              "        document.querySelector('#' + key + ' button');\n",
              "      quickchartButtonEl.disabled = true;  // To prevent multiple clicks.\n",
              "      quickchartButtonEl.classList.add('colab-df-spinner');\n",
              "      try {\n",
              "        const charts = await google.colab.kernel.invokeFunction(\n",
              "            'suggestCharts', [key], {});\n",
              "      } catch (error) {\n",
              "        console.error('Error during call to suggestCharts:', error);\n",
              "      }\n",
              "      quickchartButtonEl.classList.remove('colab-df-spinner');\n",
              "      quickchartButtonEl.classList.add('colab-df-quickchart-complete');\n",
              "    }\n",
              "    (() => {\n",
              "      let quickchartButtonEl =\n",
              "        document.querySelector('#df-808c39bf-5ded-410b-9763-c442f4bb60c7 button');\n",
              "      quickchartButtonEl.style.display =\n",
              "        google.colab.kernel.accessAllowed ? 'block' : 'none';\n",
              "    })();\n",
              "  </script>\n",
              "</div>\n",
              "    </div>\n",
              "  </div>\n"
            ]
          },
          "metadata": {},
          "execution_count": 505
        }
      ]
    },
    {
      "cell_type": "markdown",
      "source": [
        "## Fairness Metrics"
      ],
      "metadata": {
        "id": "B7hzgGNlbaDW"
      }
    },
    {
      "cell_type": "markdown",
      "source": [
        "The fairness metric we were primarily concerned with was demographic parity in terms of gender. In other words, we want a model that will predict a male will default their loan roughly as frequently as a female. Our fairness metric was best in our Logistic Regression model using a stratified sample on gender."
      ],
      "metadata": {
        "id": "MhRR0HNBHBnb"
      }
    },
    {
      "cell_type": "code",
      "source": [
        "def fairness_gender(X_test, y_true, y_pred):\n",
        "    test_data = X_test.join(y_true, how='outer')\n",
        "    test_data[\"prediction\"] = y_pred\n",
        "    test_male = test_data[test_data[\"CODE_GENDER_M\"] > 0]\n",
        "    test_female = test_data[test_data[\"CODE_GENDER_F\"] > 0]\n",
        "    parity = test_female[\"prediction\"].mean() / test_male[\"prediction\"].mean()\n",
        "    return(parity)"
      ],
      "metadata": {
        "id": "i3aNE6L9Ikq1"
      },
      "execution_count": null,
      "outputs": []
    },
    {
      "cell_type": "markdown",
      "source": [
        "The visual of our Fairness Metric across various thresholds"
      ],
      "metadata": {
        "id": "b_GFadKtS9aQ"
      }
    },
    {
      "cell_type": "code",
      "source": [
        "stuff = splits(df, mode=\"stratified\", v=1)\n",
        "X_train, X_test, y_train, y_test = stuff[0]\n",
        "\n",
        "lr = LogisticRegressionManual()\n",
        "model = lr.fit(X_train, y_train)\n",
        "df_test = X_test.join(y_test,how=\"outer\")\n",
        "df_test_reset = df_test\n",
        "\n",
        "thresholds = np.linspace(0.05, 0.2, 15)\n",
        "demographic_parity_ratios = []\n",
        "\n",
        "for threshold in thresholds:\n",
        "    df_test = df_test_reset\n",
        "    df_test[\"pred_prob\"] = lr.predict_proba(X_test)[\"p\"]\n",
        "    df_test[\"CODE_GENDER_F\"] = np.where(df_test[\"CODE_GENDER_F\"] > 0, 1, 0)\n",
        "    df_test[\"predict\"] = np.where(((df_test[\"CODE_GENDER_F\"] == 1) & (df_test[\"pred_prob\"] > threshold)) | ((df_test[\"CODE_GENDER_F\"] == 0) & (df_test[\"pred_prob\"] >= 0.15)), 1, 0)\n",
        "    pos_rate_by_gender = df_test.groupby('CODE_GENDER_F')['predict'].mean()\n",
        "    with np.errstate(divide='ignore', invalid='ignore'):\n",
        "        demographic_parity_ratio = pos_rate_by_gender[1] / pos_rate_by_gender[0]\n",
        "\n",
        "    demographic_parity_ratios.append(demographic_parity_ratio)\n",
        "\n",
        "plt.plot(thresholds, demographic_parity_ratios)\n",
        "plt.axhline(y=0.8, color='r', linestyle='--', label='80% Threshold')\n",
        "plt.xlabel('Threshold for Protected Group (Females)')\n",
        "plt.ylabel('Demographic Parity Ratio')\n",
        "plt.title('Demographic Parity vs. Threshold')\n",
        "plt.legend()\n",
        "plt.show()"
      ],
      "metadata": {
        "id": "B1UL1JK6SwfW",
        "colab": {
          "base_uri": "https://localhost:8080/",
          "height": 472
        },
        "outputId": "78784d95-e7d4-4d7b-f434-b2014f2e8566"
      },
      "execution_count": null,
      "outputs": [
        {
          "output_type": "display_data",
          "data": {
            "text/plain": [
              "<Figure size 640x480 with 1 Axes>"
            ],
            "image/png": "[encoded data removed]"
          },
          "metadata": {}
        }
      ]
    },
    {
      "cell_type": "markdown",
      "source": [
        "It is worth noting that it is more harmful to a protected group if they are more likely to be seen as potentially unable to pay their loan, so a lower proportion in this case is more favorable to the protected group (which is female applicants here)."
      ],
      "metadata": {
        "id": "g9iXFKWBfQ1S"
      }
    },
    {
      "cell_type": "markdown",
      "source": [
        "## Final Model"
      ],
      "metadata": {
        "id": "pWaOA0jG66Ez"
      }
    },
    {
      "cell_type": "markdown",
      "source": [
        "From a preliminarly analysis, we have chosen our final model to be a Logistic Regression model, which is trained and tested on a stratified split such that males and females are equally represented. In this model, we used a probability threshold of 0.15 to classify an applicant as potentially unable to pay out the loan. Logistic Regression, in general, performed only slightly worse than Linear Discriminant Analysis in terms of accuracy, f1 score, and ROC-AUC, but because of its superior fairness score, we believe that this model is worth deploying over the better performing one due its superiority in fairness score. With it being based on a stratified sample, we can also conclude that this model will be applicable to a population that is roughly equal in males and females, which we believe to be a very plausible population, while having similar performances on those two categories."
      ],
      "metadata": {
        "id": "mpmZ-sKeIHBO"
      }
    },
    {
      "cell_type": "markdown",
      "source": [
        "Overall, our Logistic Regression and Linear Discriminant Analysis models were similar across the board based on performance, with LDA having a tendency to only be slightly better in each of our splitting methods. Our SVM model was by far the worst performing with our data, and with it being computationally intensive as well, we were quick to take it out of consideration."
      ],
      "metadata": {
        "id": "GzOXM80BKnne"
      }
    },
    {
      "cell_type": "markdown",
      "source": [
        "When running our models using our non-random splits, we found that our models not only performed worse in accuracy and f1 score, but also produced very concerning fairness scores. What that told us is that our models would not have done well on people whose occupations are not very well represented in the data, because they were trained on frequently occurring occupations and tested on lesser occurring occupations."
      ],
      "metadata": {
        "id": "WgdFkTg5bJ6A"
      }
    },
    {
      "cell_type": "markdown",
      "source": [
        "The models using a completely random sample had similar performances to the models using a stratified sample, and this could be because gender isn't as influential as some of the other features we used. But, because the models using stratified samples were similar performing and gave us assurance that it would work similarly on future data assuming a roughly 50/50 split in gender, we chose to apply the methods using a stratified sample over a completely random split."
      ],
      "metadata": {
        "id": "2LJbEMmTJUCK"
      }
    }
  ]
}